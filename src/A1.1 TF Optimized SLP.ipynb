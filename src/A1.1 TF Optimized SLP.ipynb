{
 "cells": [
  {
   "cell_type": "markdown",
   "metadata": {},
   "source": [
    "# TensorFlow Optimized Single-Layer Perceptron\n",
    "\n",
    "Since I really do not want to re-write the binary classifier from `A1 SLP Gradient Descent`, I am going to re-implement it using a TensorFlow optimizer (SGD). \n",
    "\n",
    "## Todo\n",
    " - [x] Get data, convert to tensor.\n",
    " - [x] Loss function, re-implemented using Tensors.\n",
    " - [x] Accuracy function, re-implemented using Tensors (or just convert...).\n",
    " - [x] Gradient descent function.\n",
    " - [x] Plots.\n",
    " - [x] Caching (see MLP gradient descent)."
   ]
  },
  {
   "cell_type": "code",
   "execution_count": 383,
   "metadata": {},
   "outputs": [],
   "source": [
    "# IMPORT BOX #\n",
    "import tensorflow as tf\n",
    "import numpy as np\n",
    "import matplotlib.pyplot as plt\n",
    "import time\n",
    "import os\n",
    "os.environ['TF_CPP_MIN_LOG_LEVEL'] = '3'\n",
    "\n",
    "from tqdm.notebook import tqdm # Progress bars"
   ]
  },
  {
   "cell_type": "markdown",
   "metadata": {},
   "source": [
    "## Data Loading Functions"
   ]
  },
  {
   "cell_type": "code",
   "execution_count": 384,
   "metadata": {},
   "outputs": [],
   "source": [
    "# Load the data\n",
    "def loadData():\n",
    "    with np.load(\"../datasets/notMNIST.npz\") as data:\n",
    "        Data, Target = data[\"images\"], data[\"labels\"]\n",
    "        np.random.seed(5213)\n",
    "        randIndx = np.arange(len(Data))\n",
    "        np.random.shuffle(randIndx)\n",
    "        Data = Data[randIndx] / 255.0\n",
    "        Target = Target[randIndx]\n",
    "        print(\"DATA DIMENSIONS: \", Data.shape)\n",
    "        # 14043 = 18724*.75\n",
    "#         trainData, trainTarget = Data[:10000], Target[:10000]\n",
    "#         validData, validTarget = Data[10000:16000], Target[10000:16000]\n",
    "#         testData, testTarget = Data[16000:], Target[16000:]\n",
    "        trainData, trainTarget = Data[:14043], Target[:14043]\n",
    "        validData, validTarget = Data[14043:], Target[14043:]\n",
    "        testData, testTarget = Data[14043:], Target[14043:]\n",
    "    return trainData, validData, testData, trainTarget, validTarget, testTarget\n"
   ]
  },
  {
   "cell_type": "code",
   "execution_count": 385,
   "metadata": {},
   "outputs": [],
   "source": [
    "def convertOneHot(trainTarget, validTarget, testTarget):\n",
    "    newtrain = np.zeros((trainTarget.shape[0], 10))\n",
    "    newvalid = np.zeros((validTarget.shape[0], 10))\n",
    "    newtest = np.zeros((testTarget.shape[0], 10))\n",
    "\n",
    "    for item in range(0, trainTarget.shape[0]):\n",
    "        newtrain[item][trainTarget[item]] = 1\n",
    "    for item in range(0, validTarget.shape[0]):\n",
    "        newvalid[item][validTarget[item]] = 1\n",
    "    for item in range(0, testTarget.shape[0]):\n",
    "        newtest[item][testTarget[item]] = 1\n",
    "    return newtrain, newvalid, newtest"
   ]
  },
  {
   "cell_type": "code",
   "execution_count": 386,
   "metadata": {},
   "outputs": [],
   "source": [
    "def shuffle(trainData, trainTarget):\n",
    "    np.random.seed(421)\n",
    "    randIndx = np.arange(len(trainData))\n",
    "    target = trainTarget\n",
    "    np.random.shuffle(randIndx)\n",
    "    data, target = trainData[randIndx], target[randIndx]\n",
    "    return data, target"
   ]
  },
  {
   "cell_type": "markdown",
   "metadata": {},
   "source": [
    "## Loading Data"
   ]
  },
  {
   "cell_type": "code",
   "execution_count": 387,
   "metadata": {},
   "outputs": [
    {
     "name": "stdout",
     "output_type": "stream",
     "text": [
      "DATA DIMENSIONS:  (18724, 28, 28)\n",
      "Training data shape: \t(784, 14043)\n",
      "Validation data shape: \t(784, 4681)\n"
     ]
    }
   ],
   "source": [
    "trainData, validData, testData, trainTarget, validTarget, testTarget = loadData()\n",
    "newtrain, newvalid, newtest = convertOneHot(trainTarget, validTarget, testTarget)\n",
    "\n",
    "trainData = trainData.reshape(14043, 784)\n",
    "validData = validData.reshape(validData.shape[0], 784)\n",
    "testData = testData.reshape(testData.shape[0], 784)\n",
    "\n",
    "trainData = np.transpose(trainData)\n",
    "validData = np.transpose(validData)\n",
    "testData = testData.T\n",
    "\n",
    "y_train = np.transpose(newtrain)\n",
    "y_valid = np.transpose(newvalid)\n",
    "y_test = np.transpose(newtest)\n",
    "\n",
    "print(\"Training data shape: \\t{}\".format(trainData.shape))\n",
    "print(\"Validation data shape: \\t{}\".format(validData.shape))"
   ]
  },
  {
   "cell_type": "markdown",
   "metadata": {},
   "source": [
    "## Tensor Conversion"
   ]
  },
  {
   "cell_type": "code",
   "execution_count": 388,
   "metadata": {},
   "outputs": [],
   "source": [
    "T_y_train = tf.constant(y_train)\n",
    "T_y_valid = tf.constant(y_valid)\n",
    "T_trainData = tf.constant(trainData)\n",
    "T_validData = tf.constant(validData)"
   ]
  },
  {
   "cell_type": "markdown",
   "metadata": {},
   "source": [
    "## Variables"
   ]
  },
  {
   "cell_type": "code",
   "execution_count": 389,
   "metadata": {},
   "outputs": [],
   "source": [
    "w = np.random.random(size=(10, 28*28))*2-1\n",
    "W = tf.Variable(w)\n",
    "b = np.zeros(shape=(10,1))\n",
    "B = tf.Variable(b)"
   ]
  },
  {
   "cell_type": "code",
   "execution_count": 390,
   "metadata": {},
   "outputs": [
    {
     "data": {
      "text/plain": [
       "TensorShape([10, 784])"
      ]
     },
     "execution_count": 390,
     "metadata": {},
     "output_type": "execute_result"
    }
   ],
   "source": [
    "W.shape"
   ]
  },
  {
   "cell_type": "code",
   "execution_count": 391,
   "metadata": {},
   "outputs": [
    {
     "data": {
      "text/plain": [
       "TensorShape([10, 1])"
      ]
     },
     "execution_count": 391,
     "metadata": {},
     "output_type": "execute_result"
    }
   ],
   "source": [
    "B.shape"
   ]
  },
  {
   "cell_type": "code",
   "execution_count": 392,
   "metadata": {},
   "outputs": [
    {
     "data": {
      "text/plain": [
       "TensorShape([784, 14043])"
      ]
     },
     "execution_count": 392,
     "metadata": {},
     "output_type": "execute_result"
    }
   ],
   "source": [
    "T_trainData.shape"
   ]
  },
  {
   "cell_type": "code",
   "execution_count": 393,
   "metadata": {},
   "outputs": [],
   "source": [
    "test_pred = W @ T_trainData + B"
   ]
  },
  {
   "cell_type": "code",
   "execution_count": 394,
   "metadata": {},
   "outputs": [
    {
     "data": {
      "text/plain": [
       "TensorShape([10, 14043])"
      ]
     },
     "execution_count": 394,
     "metadata": {},
     "output_type": "execute_result"
    }
   ],
   "source": [
    "test_pred.shape"
   ]
  },
  {
   "cell_type": "code",
   "execution_count": 395,
   "metadata": {},
   "outputs": [
    {
     "data": {
      "text/plain": [
       "TensorShape([10, 14043])"
      ]
     },
     "execution_count": 395,
     "metadata": {},
     "output_type": "execute_result"
    }
   ],
   "source": [
    "T_y_train.shape"
   ]
  },
  {
   "cell_type": "markdown",
   "metadata": {},
   "source": [
    "## Helper Functions"
   ]
  },
  {
   "cell_type": "code",
   "execution_count": 396,
   "metadata": {},
   "outputs": [],
   "source": [
    "def forward(W, B, X):\n",
    "    # Matrix multiply, add bias\n",
    "    pred = W @ X + B\n",
    "    # Softmax: Subtract each column's maximum from the corresponding column.\n",
    "    maxes = tf.math.reduce_max(pred, axis=0, keepdims=True)\n",
    "    pred -= maxes\n",
    "    # Softmax: Exponentiate the whole thing.\n",
    "    pred = tf.math.exp(pred)\n",
    "    # Softmax: Divide each column by each column's sum.\n",
    "    col_sums = tf.math.reduce_sum(pred, axis=0, keepdims=True)\n",
    "    col_sums = tf.constant(np.ones(shape=(10,1))) @ col_sums\n",
    "    return tf.divide(pred, col_sums)"
   ]
  },
  {
   "cell_type": "code",
   "execution_count": 397,
   "metadata": {},
   "outputs": [],
   "source": [
    "def CE(targets, predictions):\n",
    "    return tf.math.reduce_sum(targets*tf.math.log(predictions))*-1\n",
    "    \n",
    "def averageCE(targets, predictions):\n",
    "    return (1./targets.shape[1]) * CE(targets, predictions)"
   ]
  },
  {
   "cell_type": "code",
   "execution_count": 398,
   "metadata": {},
   "outputs": [],
   "source": [
    "def get_accuracy(targets, predictions):\n",
    "    targmax = tf.math.argmax(targets, axis=0)\n",
    "    predmax = tf.math.argmax(predictions, axis=0)\n",
    "    \n",
    "    bool_ary = targmax==predmax\n",
    "    int_ary = tf.cast(bool_ary, dtype=tf.int32)\n",
    "    \n",
    "    correct = tf.math.reduce_sum(int_ary).numpy()\n",
    "    total = targmax.shape[0]\n",
    "    return correct/total"
   ]
  },
  {
   "cell_type": "code",
   "execution_count": 399,
   "metadata": {},
   "outputs": [],
   "source": [
    "test_out = forward(W, B, T_trainData)"
   ]
  },
  {
   "cell_type": "code",
   "execution_count": 400,
   "metadata": {},
   "outputs": [
    {
     "data": {
      "text/plain": [
       "0.10553300576799829"
      ]
     },
     "execution_count": 400,
     "metadata": {},
     "output_type": "execute_result"
    }
   ],
   "source": [
    "get_accuracy(T_y_train, test_out)"
   ]
  },
  {
   "cell_type": "markdown",
   "metadata": {},
   "source": [
    "## Optimization"
   ]
  },
  {
   "cell_type": "code",
   "execution_count": 401,
   "metadata": {},
   "outputs": [],
   "source": [
    "iterations = 5000\n",
    "learning_rate = 0.1"
   ]
  },
  {
   "cell_type": "code",
   "execution_count": 402,
   "metadata": {},
   "outputs": [],
   "source": [
    "def minimize_me():\n",
    "    return averageCE(T_y_train, forward(W,B,T_trainData))"
   ]
  },
  {
   "cell_type": "code",
   "execution_count": 403,
   "metadata": {},
   "outputs": [
    {
     "data": {
      "application/vnd.jupyter.widget-view+json": {
       "model_id": "8a179c2cd49a446eb18fef8624b4fd1a",
       "version_major": 2,
       "version_minor": 0
      },
      "text/plain": [
       "  0%|          | 0/5000 [00:00<?, ?it/s]"
      ]
     },
     "metadata": {},
     "output_type": "display_data"
    }
   ],
   "source": [
    "# Create an optimizer with the desired parameters.\n",
    "opt = tf.keras.optimizers.SGD(learning_rate=learning_rate)\n",
    "\n",
    "# In eager mode, simply call minimize to update the list of variables.\n",
    "losses = [minimize_me().numpy()]\n",
    "valid_losses = [averageCE(T_y_valid, forward(W,B,T_validData)).numpy()]\n",
    "accuracies = [get_accuracy(T_y_train, forward(W,B,T_trainData))]\n",
    "valid_accuracies = [get_accuracy(T_y_valid, forward(W,B,T_validData))]\n",
    "\n",
    "for iteration in tqdm(range(iterations)):\n",
    "    # OPTIMIZATION STEP\n",
    "    opt.minimize(minimize_me, var_list=[W,B])\n",
    "    # Logistical Maintenance\n",
    "    losses.append(minimize_me().numpy())\n",
    "    valid_losses.append(averageCE(T_y_valid, forward(W,B,T_validData)).numpy())\n",
    "    accuracies.append(get_accuracy(T_y_train, forward(W,B,T_trainData)))\n",
    "    valid_accuracies.append(get_accuracy(T_y_valid, forward(W,B,T_validData)))\n",
    "    "
   ]
  },
  {
   "cell_type": "code",
   "execution_count": 404,
   "metadata": {},
   "outputs": [
    {
     "data": {
      "image/png": "[encoded data removed]",
      "text/plain": [
       "<Figure size 432x288 with 1 Axes>"
      ]
     },
     "metadata": {
      "needs_background": "light"
     },
     "output_type": "display_data"
    }
   ],
   "source": [
    "plt.plot(losses, label='train')\n",
    "plt.plot(valid_losses, label='valid')\n",
    "plt.title('SLP Loss vs. Iteration')\n",
    "plt.xlabel('Iteration')\n",
    "plt.ylabel('Avg CE Loss')\n",
    "plt.legend()\n",
    "plt.show()"
   ]
  },
  {
   "cell_type": "code",
   "execution_count": 405,
   "metadata": {},
   "outputs": [
    {
     "data": {
      "image/png": "[encoded data removed]",
      "text/plain": [
       "<Figure size 432x288 with 1 Axes>"
      ]
     },
     "metadata": {
      "needs_background": "light"
     },
     "output_type": "display_data"
    }
   ],
   "source": [
    "plt.plot(accuracies, label='train')\n",
    "plt.plot(valid_accuracies, label='valid')\n",
    "plt.title('SLP Accuracy vs. Iteration')\n",
    "plt.xlabel('Iteration')\n",
    "plt.ylabel('Accuracy')\n",
    "plt.legend()\n",
    "plt.show()"
   ]
  },
  {
   "cell_type": "code",
   "execution_count": 406,
   "metadata": {},
   "outputs": [
    {
     "data": {
      "text/plain": [
       "0.8645588549455244"
      ]
     },
     "execution_count": 406,
     "metadata": {},
     "output_type": "execute_result"
    }
   ],
   "source": [
    "valid_accuracies[-1]"
   ]
  },
  {
   "cell_type": "code",
   "execution_count": 407,
   "metadata": {},
   "outputs": [
    {
     "data": {
      "text/plain": [
       "0.8896959339172541"
      ]
     },
     "execution_count": 407,
     "metadata": {},
     "output_type": "execute_result"
    }
   ],
   "source": [
    "accuracies[-1]"
   ]
  },
  {
   "cell_type": "markdown",
   "metadata": {},
   "source": [
    "## Caching Results"
   ]
  },
  {
   "cell_type": "code",
   "execution_count": 408,
   "metadata": {},
   "outputs": [],
   "source": [
    "import uuid\n",
    "import json\n",
    "import pickle\n",
    "\n",
    "output_path = \"../results/final/OCR/gradient_descent/\""
   ]
  },
  {
   "cell_type": "code",
   "execution_count": 409,
   "metadata": {},
   "outputs": [
    {
     "name": "stdout",
     "output_type": "stream",
     "text": [
      "The random id using uuid1() is : d5dc35ce-bea2-11eb-9153-f2189895db64\n"
     ]
    }
   ],
   "source": [
    "out_name = \"{}\".format(uuid.uuid1())\n",
    "# Printing random id using uuid1()\n",
    "print (\"The random id using uuid1() is : \",end=\"\")\n",
    "print (out_name)"
   ]
  },
  {
   "cell_type": "code",
   "execution_count": 410,
   "metadata": {},
   "outputs": [],
   "source": [
    "output_dict = {\n",
    "    \"learning_rate\": learning_rate,\n",
    "    \"momentum\": 0,\n",
    "    \"hidden_units\": 0,\n",
    "    \"save_name\": \"{}.json\".format(out_name),\n",
    "    \"losses\": losses,\n",
    "    \"valid_losses\": valid_losses,\n",
    "    \"accuracies\": accuracies,\n",
    "    \"valid_accuracies\": valid_accuracies,\n",
    "    \"train_probabilities\": forward(W,B,T_trainData),\n",
    "    \"valid_probabilities\": forward(W,B,T_validData),\n",
    "    \"train_labels\": T_y_train,\n",
    "    \"valid_labels\": T_y_valid,\n",
    "    \"iters\": iterations\n",
    "}\n"
   ]
  },
  {
   "cell_type": "code",
   "execution_count": 411,
   "metadata": {},
   "outputs": [
    {
     "data": {
      "text/plain": [
       "'../results/final/OCR/gradient_descent/d5dc35ce-bea2-11eb-9153-f2189895db64.pkl'"
      ]
     },
     "execution_count": 411,
     "metadata": {},
     "output_type": "execute_result"
    }
   ],
   "source": [
    "PTH = \"{}{}.pkl\".format(output_path, out_name)\n",
    "PTH"
   ]
  },
  {
   "cell_type": "code",
   "execution_count": 412,
   "metadata": {},
   "outputs": [],
   "source": [
    "serialized = pickle.dumps(output_dict)"
   ]
  },
  {
   "cell_type": "code",
   "execution_count": 413,
   "metadata": {},
   "outputs": [],
   "source": [
    "with open(PTH, 'wb') as handle:\n",
    "    pickle.dump(output_dict, handle)"
   ]
  },
  {
   "cell_type": "code",
   "execution_count": 414,
   "metadata": {},
   "outputs": [],
   "source": [
    "with open(PTH, 'rb') as handle:\n",
    "    b = pickle.load(handle)"
   ]
  },
  {
   "cell_type": "code",
   "execution_count": 415,
   "metadata": {},
   "outputs": [
    {
     "data": {
      "text/plain": [
       "tensorflow.python.framework.ops.EagerTensor"
      ]
     },
     "execution_count": 415,
     "metadata": {},
     "output_type": "execute_result"
    }
   ],
   "source": [
    "type(b['train_labels']) # Type test."
   ]
  },
  {
   "cell_type": "code",
   "execution_count": null,
   "metadata": {},
   "outputs": [],
   "source": []
  }
 ],
 "metadata": {
  "kernelspec": {
   "display_name": "Python 3",
   "language": "python",
   "name": "python3"
  },
  "language_info": {
   "codemirror_mode": {
    "name": "ipython",
    "version": 3
   },
   "file_extension": ".py",
   "mimetype": "text/x-python",
   "name": "python",
   "nbconvert_exporter": "python",
   "pygments_lexer": "ipython3",
   "version": "3.7.7"
  }
 },
 "nbformat": 4,
 "nbformat_minor": 5
}
