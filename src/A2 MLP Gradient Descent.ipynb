{
 "cells": [
  {
   "cell_type": "markdown",
   "id": "chicken-sustainability",
   "metadata": {},
   "source": [
    "# Assignment 2\n",
    "Aman Bhargava -- 1005189733"
   ]
  },
  {
   "cell_type": "code",
   "execution_count": null,
   "id": "sixth-major",
   "metadata": {},
   "outputs": [],
   "source": [
    "# IMPORT BOX #\n",
    "# import tensorflow as tf\n",
    "import numpy as np\n",
    "import matplotlib.pyplot as plt\n",
    "import time\n",
    "import os\n",
    "os.environ['TF_CPP_MIN_LOG_LEVEL'] = '3'\n",
    "\n",
    "from tqdm.notebook import tqdm # Progress bars"
   ]
  },
  {
   "cell_type": "code",
   "execution_count": null,
   "id": "occupied-slide",
   "metadata": {},
   "outputs": [],
   "source": [
    "# CONSTANTS #\n",
    "F = 784\n",
    "H = 32 # Hidden layer size\n",
    "K = 10"
   ]
  },
  {
   "cell_type": "markdown",
   "id": "electronic-cardiff",
   "metadata": {},
   "source": [
    "## Provided Data Manipulation Functions"
   ]
  },
  {
   "cell_type": "code",
   "execution_count": null,
   "id": "optimum-constitution",
   "metadata": {},
   "outputs": [],
   "source": [
    "# Load the data\n",
    "def loadData():\n",
    "    with np.load(\"../datasets/notMNIST.npz\") as data:\n",
    "        Data, Target = data[\"images\"], data[\"labels\"]\n",
    "        np.random.seed(521193)\n",
    "        randIndx = np.arange(len(Data))\n",
    "        np.random.shuffle(randIndx)\n",
    "        Data = Data[randIndx] / 255.0\n",
    "        Target = Target[randIndx]\n",
    "        print(\"DATA DIMENSIONS: \", Data.shape)\n",
    "        # 14043 = 18724*.75\n",
    "#         trainData, trainTarget = Data[:10000], Target[:10000]\n",
    "#         validData, validTarget = Data[10000:16000], Target[10000:16000]\n",
    "#         testData, testTarget = Data[16000:], Target[16000:]\n",
    "        trainData, trainTarget = Data[:14043], Target[:14043]\n",
    "        validData, validTarget = Data[14043:], Target[14043:]\n",
    "        testData, testTarget = Data[14043:], Target[14043:]\n",
    "    return trainData, validData, testData, trainTarget, validTarget, testTarget\n"
   ]
  },
  {
   "cell_type": "code",
   "execution_count": null,
   "id": "integral-horizontal",
   "metadata": {},
   "outputs": [],
   "source": [
    "# Implementation of a neural network using only Numpy - trained using gradient descent with momentum\n",
    "def convertOneHot(trainTarget, validTarget, testTarget):\n",
    "    newtrain = np.zeros((trainTarget.shape[0], 10))\n",
    "    newvalid = np.zeros((validTarget.shape[0], 10))\n",
    "    newtest = np.zeros((testTarget.shape[0], 10))\n",
    "\n",
    "    for item in range(0, trainTarget.shape[0]):\n",
    "        newtrain[item][trainTarget[item]] = 1\n",
    "    for item in range(0, validTarget.shape[0]):\n",
    "        newvalid[item][validTarget[item]] = 1\n",
    "    for item in range(0, testTarget.shape[0]):\n",
    "        newtest[item][testTarget[item]] = 1\n",
    "    return newtrain, newvalid, newtest"
   ]
  },
  {
   "cell_type": "code",
   "execution_count": null,
   "id": "configured-closing",
   "metadata": {},
   "outputs": [],
   "source": [
    "def shuffle(trainData, trainTarget):\n",
    "    np.random.seed(421)\n",
    "    randIndx = np.arange(len(trainData))\n",
    "    target = trainTarget\n",
    "    np.random.shuffle(randIndx)\n",
    "    data, target = trainData[randIndx], target[randIndx]\n",
    "    return data, target"
   ]
  },
  {
   "cell_type": "markdown",
   "id": "common-brook",
   "metadata": {},
   "source": [
    "## 1.1: Helper Functions"
   ]
  },
  {
   "cell_type": "code",
   "execution_count": null,
   "id": "potential-singapore",
   "metadata": {},
   "outputs": [],
   "source": [
    "def ReLU(x):\n",
    "    return np.maximum(x, np.zeros(x.shape))"
   ]
  },
  {
   "cell_type": "code",
   "execution_count": null,
   "id": "objective-berlin",
   "metadata": {},
   "outputs": [],
   "source": [
    "def softmax(x):\n",
    "    x -= x.max() # per 'important hint'.\n",
    "    factor = np.sum(np.exp(x))\n",
    "    return np.exp(x)/factor"
   ]
  },
  {
   "cell_type": "code",
   "execution_count": null,
   "id": "vertical-bookmark",
   "metadata": {},
   "outputs": [],
   "source": [
    "def compute(X, W, b):\n",
    "    np.matmul(W_h, trainData)\n",
    "    bias=b*np.ones((1,X.shape[1]))\n",
    "    return np.matmul(W, X)+bias"
   ]
  },
  {
   "cell_type": "code",
   "execution_count": null,
   "id": "built-banking",
   "metadata": {},
   "outputs": [],
   "source": [
    "def CE(target, prediction):\n",
    "    return np.sum(target*np.log(prediction))*-1\n",
    "\n",
    "def averageCE(targets, predictions):\n",
    "    return (1/np.amax(targets.shape)) * CE(targets, predictions)"
   ]
  },
  {
   "cell_type": "code",
   "execution_count": null,
   "id": "executive-transaction",
   "metadata": {},
   "outputs": [],
   "source": [
    "def gradCE(target, prediction):\n",
    "    f = np.sum(np.exp(prediction))\n",
    "    return np.exp(prediction)/f - target"
   ]
  },
  {
   "cell_type": "markdown",
   "id": "functional-mentor",
   "metadata": {},
   "source": [
    "## Learning"
   ]
  },
  {
   "cell_type": "code",
   "execution_count": null,
   "id": "crucial-writer",
   "metadata": {},
   "outputs": [],
   "source": [
    "trainData, validData, testData, trainTarget, validTarget, testTarget = loadData()\n",
    "newtrain, newvalid, newtest = convertOneHot(trainTarget, validTarget, testTarget)\n",
    "\n",
    "\n",
    "trainData = trainData.reshape(14043, 784)\n",
    "validData = validData.reshape(validData.shape[0], 784)\n",
    "testData = testData.reshape(testData.shape[0], 784)\n",
    "\n",
    "trainData = np.transpose(trainData)\n",
    "validData = np.transpose(validData)\n",
    "testData = testData.T\n",
    "\n",
    "y_train = np.transpose(newtrain)\n",
    "y_valid = np.transpose(newvalid)\n",
    "y_test = np.transpose(newtest)\n",
    "\n",
    "print(\"Training data shape: \\t{}\".format(trainData.shape))\n",
    "print(\"Validation data shape: \\t{}\".format(validData.shape))"
   ]
  },
  {
   "cell_type": "code",
   "execution_count": null,
   "id": "imposed-phone",
   "metadata": {},
   "outputs": [],
   "source": [
    "def instantiate_NN(F, H, K):\n",
    "    W_h = np.random.normal(0, 2/(F+H), size=(F,H))\n",
    "    b_h = np.zeros((1,H))\n",
    "    W_o = np.random.normal(0, 2/(K+H), size=(H,K))\n",
    "    b_o = np.zeros((1,K))\n",
    "    \n",
    "    W1 = np.append(b_h, W_h, axis=0)\n",
    "    W2 = np.append(b_o, W_o, axis=0)\n",
    "    return W1, W2"
   ]
  },
  {
   "cell_type": "code",
   "execution_count": null,
   "id": "forty-valuation",
   "metadata": {},
   "outputs": [],
   "source": [
    "W1, W2 = instantiate_NN(F, H, K)"
   ]
  },
  {
   "cell_type": "code",
   "execution_count": null,
   "id": "exact-tyler",
   "metadata": {},
   "outputs": [],
   "source": [
    "# TRAINING LOOP #\n",
    "epochs = 500\n",
    "\n",
    "W1, W2 = instantiate_NN(F, H, K)\n",
    "\n",
    "v_W1 = np.ones(W1.shape)*1e-5\n",
    "v_W2 = np.ones(W2.shape)*1e-5\n",
    "\n",
    "d_W1 = np.zeros(W1.shape)\n",
    "d_W2 = np.zeros(W2.shape)\n",
    "\n",
    "gamma = 0.9\n",
    "gamma = 0\n",
    "alpha = 0.1\n",
    "\n",
    "verbose = True\n",
    "\n",
    "Xs = trainData\n",
    "N = Xs.shape[1]\n",
    "Ys = y_train\n",
    "\n",
    "train_accs = []\n",
    "train_losses = []\n",
    "valid_accs = []\n",
    "valid_losses = []\n",
    "\n",
    "## LOOPS ##\n",
    "\n",
    "for epoch in tqdm(range(epochs)):\n",
    "    print('=== STARTING EPOCH {} ==='.format(epoch))\n",
    "    num_correct = 0\n",
    "    total_loss = 0\n",
    "    for i in range(N): # This internal loop can be parallelized...\n",
    "        ### Forward Pass ### \n",
    "        # ...\n",
    "        x0 = Xs[:, i] # Extracting ith training example.\n",
    "        x0 = np.append(1, x0)\n",
    "        s1 = W1.T @ x0\n",
    "        x1 = ReLU(s1)\n",
    "        x1 = np.append(1, x1)\n",
    "        s2 = W2.T @ x1\n",
    "        s2.shape\n",
    "        p = softmax(s2)\n",
    "\n",
    "        ### Backward pass ###\n",
    "        y = Ys[:, i]\n",
    "        delta2 = p - y\n",
    "        delta1 = np.multiply((W2[1:,:] @ delta2), (s1 >= 0).astype(int))\n",
    "\n",
    "        de_dw1 = np.outer(x0, delta1)\n",
    "        de_dw2 = np.outer(x1, delta2)\n",
    "\n",
    "        d_W1 += de_dw1\n",
    "        d_W2 += de_dw2\n",
    "\n",
    "        ### Documenting batch Statistics ###\n",
    "        total_loss += CE(y, p)\n",
    "        if np.argmax(y) == np.argmax(p):\n",
    "            num_correct += 1\n",
    "\n",
    "    # Taking AVERAGE gradients for both matrices.\n",
    "    d_W1 *= (1/N)\n",
    "    d_W2 *= (1/N)\n",
    "\n",
    "    # Updating momentum terms.\n",
    "    v_W1 = v_W1*gamma + alpha*d_W1\n",
    "    v_W2 = v_W2*gamma + alpha*d_W2\n",
    "\n",
    "    # Applying gradients\n",
    "    W1 = W1 - v_W1\n",
    "    W2 = W2 - v_W2\n",
    "\n",
    "    # Documenting Epoch Statistics\n",
    "    train_accs.append(num_correct/N)\n",
    "    train_losses.append(total_loss/N)\n",
    "\n",
    "    # Forward Pass on Testing Set -- Should be in EPOCH loop.\n",
    "    tD = validData.T # Extracting ith training example.\n",
    "    tD.shape\n",
    "    tD = np.append(np.ones(tD.shape[0]).reshape(4681,1), tD, axis=1)\n",
    "    tD.shape\n",
    "    tD = tD.T\n",
    "\n",
    "    s1T = W1.T @ tD\n",
    "    x1T = ReLU(s1T)\n",
    "    x1T = np.append( (np.ones(4681).reshape(1,4681)) , x1T, axis=0)\n",
    "    s2T = W2.T @ x1T\n",
    "    s2T.shape\n",
    "\n",
    "    for col in range(s2T.shape[1]):\n",
    "        s2T[:,col] = softmax(s2T[:,col])\n",
    "    valid_losses.append(averageCE(y_valid, s2T))\n",
    "    valid_accs.append(np.sum((np.argmax(s2T, axis=0) == np.argmax(y_valid,axis=0)).astype(int))/np.amax(y_valid.shape))\n",
    "    print('Valid Acc: {}\\t\\tValid Loss: {}'.format(valid_accs[-1], valid_losses[-1]))\n",
    "    print('Train Acc: {}\\t\\tTrain Loss: {}'.format(train_accs[-1], train_losses[-1]))"
   ]
  },
  {
   "cell_type": "markdown",
   "id": "virtual-irish",
   "metadata": {},
   "source": [
    "## Results"
   ]
  },
  {
   "cell_type": "code",
   "execution_count": 345,
   "id": "adjusted-invalid",
   "metadata": {},
   "outputs": [
    {
     "data": {
      "image/png": "[encoded data removed]",
      "text/plain": [
       "<Figure size 432x288 with 1 Axes>"
      ]
     },
     "metadata": {
      "needs_background": "light"
     },
     "output_type": "display_data"
    },
    {
     "name": "stdout",
     "output_type": "stream",
     "text": [
      "Final Training Loss:  0.36938413843034623\n",
      "Final Validation Loss:  0.3834529547197975\n"
     ]
    }
   ],
   "source": [
    "### Plotting Loss over Time ###\n",
    "plt.plot(valid_losses, label='val')\n",
    "plt.plot(train_losses, label='train')\n",
    "plt.title('Training and Validation Losses')\n",
    "plt.xlabel('Epoch')\n",
    "plt.ylabel('Average Loss')\n",
    "plt.legend()\n",
    "plt.savefig('Losses.png', dpi=300)\n",
    "plt.show()\n",
    "\n",
    "print('Final Training Loss: ', train_losses[-1])\n",
    "print('Final Validation Loss: ', valid_losses[-1])"
   ]
  },
  {
   "cell_type": "code",
   "execution_count": 346,
   "id": "numerical-factory",
   "metadata": {},
   "outputs": [
    {
     "data": {
      "image/png": "[encoded data removed]",
      "text/plain": [
       "<Figure size 432x288 with 1 Axes>"
      ]
     },
     "metadata": {
      "needs_background": "light"
     },
     "output_type": "display_data"
    },
    {
     "name": "stdout",
     "output_type": "stream",
     "text": [
      "Final Training Accuracy:  0.901445560065513\n",
      "Final Validation Accuracy:  0.8998077333903012\n"
     ]
    }
   ],
   "source": [
    "### Plotting Loss over Time ###\n",
    "plt.plot(valid_accs, label='val')\n",
    "plt.plot(train_accs, label='train')\n",
    "plt.title('Training and Validation Accuracies')\n",
    "plt.xlabel('Epoch')\n",
    "plt.ylabel('Accuracy')\n",
    "plt.legend()\n",
    "plt.savefig('Accuracies.png', dpi=300)\n",
    "plt.show()\n",
    "\n",
    "print('Final Training Accuracy: ', train_accs[-1])\n",
    "print('Final Validation Accuracy: ', valid_accs[-1])"
   ]
  },
  {
   "cell_type": "code",
   "execution_count": 347,
   "id": "continued-scholar",
   "metadata": {},
   "outputs": [],
   "source": [
    "# ### Computing Test Accuracy ###\n",
    "# # Forward Pass on Testing Set -- Should be in EPOCH loop.\n",
    "# tD = testData.T # Extracting ith training example.\n",
    "# tD.shape\n",
    "# tD = np.append(np.ones(tD.shape[0]).reshape(2724,1), tD, axis=1)\n",
    "# tD.shape\n",
    "# tD = tD.T\n",
    "\n",
    "# s1T = W1.T @ tD\n",
    "# x1T = ReLU(s1T)\n",
    "# x1T = np.append( (np.ones(2724).reshape(1,2724)) , x1T, axis=0)\n",
    "# s2T = W2.T @ x1T\n",
    "# s2T.shape\n",
    "\n",
    "# for col in range(s2T.shape[1]):\n",
    "#     s2T[:,col] = softmax(s2T[:,col])\n",
    "\n",
    "# test_loss = averageCE(y_test, s2T)\n",
    "# test_acc = np.sum((np.argmax(s2T, axis=0) == np.argmax(y_test,axis=0)).astype(int))/np.amax(y_test.shape)"
   ]
  },
  {
   "cell_type": "code",
   "execution_count": 348,
   "id": "italian-wheat",
   "metadata": {},
   "outputs": [],
   "source": [
    "# print('Test loss: ', test_loss)\n",
    "# print('Test acc: ', test_acc)"
   ]
  },
  {
   "cell_type": "markdown",
   "id": "579d772e",
   "metadata": {},
   "source": [
    "# Caching Results\n",
    "\n",
    " - Learning rate\n",
    " - Activation function\n",
    " - Save name\n",
    " - Losses: \n",
    "     - Validation losses\n",
    "     - Training losses\n",
    " - Accuracies:\n",
    "     - Validation accuracies\n",
    "     - Training accuracies\n",
    " - Train labels\n",
    " - Validation labels\n",
    " - Training predictions\n",
    " - Validation predictions"
   ]
  },
  {
   "cell_type": "code",
   "execution_count": 349,
   "id": "intense-praise",
   "metadata": {},
   "outputs": [],
   "source": [
    "import uuid\n",
    "import json\n",
    "import pickle\n",
    "\n",
    "output_path = \"../results/final/OCR/gradient_descent/\""
   ]
  },
  {
   "cell_type": "code",
   "execution_count": 350,
   "id": "9346a6f6",
   "metadata": {},
   "outputs": [
    {
     "name": "stdout",
     "output_type": "stream",
     "text": [
      "The random id using uuid1() is : baafa892-bec2-11eb-85f6-f2189895db64.json\n"
     ]
    }
   ],
   "source": [
    "out_name = \"{}{}\".format(uuid.uuid1(),\".json\")\n",
    "# Printing random id using uuid1()\n",
    "print (\"The random id using uuid1() is : \",end=\"\")\n",
    "print (out_name)"
   ]
  },
  {
   "cell_type": "markdown",
   "id": "35263a41",
   "metadata": {},
   "source": [
    "## Calculating Train, Validation Probabilities"
   ]
  },
  {
   "cell_type": "code",
   "execution_count": 351,
   "id": "5e68ea0e",
   "metadata": {},
   "outputs": [],
   "source": [
    "### Computing TRAIN ACCURACIES ###\n",
    "# Forward Pass on Testing Set -- Should be in EPOCH loop.\n",
    "tD = trainData.T # Extracting ith training example.\n",
    "tD.shape\n",
    "tD = np.append(np.ones(tD.shape[0]).reshape(14043,1), tD, axis=1)\n",
    "tD.shape\n",
    "tD = tD.T\n",
    "\n",
    "s1T = W1.T @ tD\n",
    "x1T = ReLU(s1T)\n",
    "x1T = np.append( (np.ones(14043).reshape(1,14043)) , x1T, axis=0)\n",
    "s2T = W2.T @ x1T\n",
    "s2T.shape\n",
    "\n",
    "for col in range(s2T.shape[1]):\n",
    "    s2T[:,col] = softmax(s2T[:,col])\n",
    "\n",
    "train_loss = averageCE(y_train, s2T)\n",
    "train_acc = np.sum((np.argmax(s2T, axis=0) == np.argmax(y_train,axis=0)).astype(int))/np.amax(y_train.shape)\n",
    "train_probabilities = s2T.copy()\n",
    "train_labels = y_train.copy()"
   ]
  },
  {
   "cell_type": "code",
   "execution_count": 352,
   "id": "de0d5448",
   "metadata": {},
   "outputs": [],
   "source": [
    "### Computing VALIDATION ACCURACIES ###\n",
    "# Forward Pass on Testing Set -- Should be in EPOCH loop.\n",
    "tD = validData.T # Extracting ith training example.\n",
    "tD.shape\n",
    "tD = np.append(np.ones(tD.shape[0]).reshape(4681,1), tD, axis=1)\n",
    "tD.shape\n",
    "tD = tD.T\n",
    "\n",
    "s1T = W1.T @ tD\n",
    "x1T = ReLU(s1T)\n",
    "x1T = np.append( (np.ones(4681).reshape(1,4681)) , x1T, axis=0)\n",
    "s2T = W2.T @ x1T\n",
    "s2T.shape\n",
    "\n",
    "for col in range(s2T.shape[1]):\n",
    "    s2T[:,col] = softmax(s2T[:,col])\n",
    "\n",
    "valid_loss = averageCE(y_valid, s2T)\n",
    "valid_acc = np.sum((np.argmax(s2T, axis=0) == np.argmax(y_valid,axis=0)).astype(int))/np.amax(y_valid.shape)\n",
    "valid_probabilities = s2T.copy()\n",
    "valid_labels = y_valid.copy()"
   ]
  },
  {
   "cell_type": "markdown",
   "id": "cde4602d",
   "metadata": {},
   "source": [
    "## Output Dictionary"
   ]
  },
  {
   "cell_type": "code",
   "execution_count": 353,
   "id": "33786690",
   "metadata": {},
   "outputs": [],
   "source": [
    "output_dict = {\n",
    "    \"learning_rate\": alpha,\n",
    "    \"momentum\": gamma,\n",
    "    \"hidden_units\": H,\n",
    "    \"save_name\": \"{}.json\".format(out_name),\n",
    "    \"losses\": train_losses,\n",
    "    \"valid_losses\": valid_losses,\n",
    "    \"accuracies\": train_accs,\n",
    "    \"valid_accuracies\": valid_accs,\n",
    "    \"train_probabilities\": train_probabilities,\n",
    "    \"valid_probabilities\": valid_probabilities,\n",
    "    \"train_labels\": train_labels,\n",
    "    \"valid_labels\": valid_labels\n",
    "}"
   ]
  },
  {
   "cell_type": "markdown",
   "id": "bf810063",
   "metadata": {},
   "source": [
    "## Saving Output Dictionary"
   ]
  },
  {
   "cell_type": "code",
   "execution_count": 354,
   "id": "a56397e7",
   "metadata": {},
   "outputs": [
    {
     "data": {
      "text/plain": [
       "'../results/final/OCR/gradient_descent/baafa892-bec2-11eb-85f6-f2189895db64.json.pkl'"
      ]
     },
     "execution_count": 354,
     "metadata": {},
     "output_type": "execute_result"
    }
   ],
   "source": [
    "PTH = \"{}{}.pkl\".format(output_path, out_name)\n",
    "PTH"
   ]
  },
  {
   "cell_type": "code",
   "execution_count": 355,
   "id": "eb891f9b",
   "metadata": {},
   "outputs": [],
   "source": [
    "serialized = pickle.dumps(output_dict)"
   ]
  },
  {
   "cell_type": "code",
   "execution_count": 356,
   "id": "462947bf",
   "metadata": {},
   "outputs": [],
   "source": [
    "with open(PTH, 'wb') as handle:\n",
    "    pickle.dump(output_dict, handle)"
   ]
  },
  {
   "cell_type": "code",
   "execution_count": 357,
   "id": "5e410d33",
   "metadata": {},
   "outputs": [],
   "source": [
    "with open(PTH, 'rb') as handle:\n",
    "    b = pickle.load(handle)"
   ]
  },
  {
   "cell_type": "code",
   "execution_count": 358,
   "id": "ab9ef4ed",
   "metadata": {},
   "outputs": [
    {
     "data": {
      "text/plain": [
       "numpy.ndarray"
      ]
     },
     "execution_count": 358,
     "metadata": {},
     "output_type": "execute_result"
    }
   ],
   "source": [
    "type(b['train_labels']) # Type test."
   ]
  },
  {
   "cell_type": "code",
   "execution_count": null,
   "id": "e14a4be9",
   "metadata": {},
   "outputs": [],
   "source": []
  },
  {
   "cell_type": "code",
   "execution_count": null,
   "id": "f8a2d0d3",
   "metadata": {},
   "outputs": [],
   "source": []
  },
  {
   "cell_type": "code",
   "execution_count": null,
   "id": "2fe97c8f",
   "metadata": {},
   "outputs": [],
   "source": []
  },
  {
   "cell_type": "code",
   "execution_count": null,
   "id": "71a28257",
   "metadata": {},
   "outputs": [],
   "source": []
  },
  {
   "cell_type": "code",
   "execution_count": null,
   "id": "8d48a235",
   "metadata": {},
   "outputs": [],
   "source": []
  },
  {
   "cell_type": "code",
   "execution_count": null,
   "id": "b680d681",
   "metadata": {},
   "outputs": [],
   "source": []
  },
  {
   "cell_type": "code",
   "execution_count": null,
   "id": "04749382",
   "metadata": {},
   "outputs": [],
   "source": []
  },
  {
   "cell_type": "code",
   "execution_count": null,
   "id": "70fa0c5c",
   "metadata": {},
   "outputs": [],
   "source": []
  },
  {
   "cell_type": "code",
   "execution_count": null,
   "id": "98519be7",
   "metadata": {},
   "outputs": [],
   "source": []
  },
  {
   "cell_type": "code",
   "execution_count": null,
   "id": "1436fc51",
   "metadata": {},
   "outputs": [],
   "source": []
  },
  {
   "cell_type": "code",
   "execution_count": null,
   "id": "a2e4de4a",
   "metadata": {},
   "outputs": [],
   "source": []
  },
  {
   "cell_type": "code",
   "execution_count": null,
   "id": "7fc3a864",
   "metadata": {},
   "outputs": [],
   "source": []
  },
  {
   "cell_type": "code",
   "execution_count": null,
   "id": "98623eaf",
   "metadata": {},
   "outputs": [],
   "source": []
  }
 ],
 "metadata": {
  "kernelspec": {
   "display_name": "Python 3",
   "language": "python",
   "name": "python3"
  },
  "language_info": {
   "codemirror_mode": {
    "name": "ipython",
    "version": 3
   },
   "file_extension": ".py",
   "mimetype": "text/x-python",
   "name": "python",
   "nbconvert_exporter": "python",
   "pygments_lexer": "ipython3",
   "version": "3.8.2"
  }
 },
 "nbformat": 4,
 "nbformat_minor": 5
}
